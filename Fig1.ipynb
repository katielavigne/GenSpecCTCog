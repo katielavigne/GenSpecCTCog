{
 "cells": [
  {
   "cell_type": "code",
   "execution_count": 1,
   "metadata": {},
   "outputs": [],
   "source": [
    "import pandas as pd\n",
    "import matplotlib.pyplot as plt\n",
    "import scipy.stats"
   ]
  },
  {
   "cell_type": "code",
   "execution_count": 2,
   "metadata": {},
   "outputs": [
    {
     "data": {
      "text/plain": [
       "Index(['id', 'study', 'group', 'battery', 'civet_qc', 'icv', 'tbv', 'sex',\n",
       "       'age', 'handedness', 'education', 'iq_mes', 'iq', 'ses_score',\n",
       "       'ses_range', 'z_vm', 'z_vism', 'z_wm', 'z_ps', 'z_ef', 'z_att', 'z_gci',\n",
       "       'dx', 'dx_spectrum', 'sec_dx1', 'sec_dx2', 'sec_dx3', 'sec_dx4',\n",
       "       'sec_dx5', 'duponset', 'onset', 'dui', 'dur_illness', 'sofas',\n",
       "       'cpz_adherence', 'saps', 'sans', 'z_vm_spec', 'z_vism_spec',\n",
       "       'z_wm_spec', 'z_ps_spec', 'z_ef_spec', 'z_att_spec',\n",
       "       'mean_thickness20mm_2_1_1_harmonized', 'prepost', 'doc_dx', 'dx_cat',\n",
       "       'sec_dx', 'subs_yn', 'subs', 'med_anti'],\n",
       "      dtype='object')"
      ]
     },
     "execution_count": 2,
     "metadata": {},
     "output_type": "execute_result"
    }
   ],
   "source": [
    "df = pd.read_csv('C:/Users/lavig/OneDrive - McGill University/research/publishing/inprep_Lavigne_EurNPP_CTCognition/data/FEP_LAMmerged.csv')\n",
    "df.columns"
   ]
  },
  {
   "cell_type": "code",
   "execution_count": 3,
   "metadata": {},
   "outputs": [
    {
     "data": {
      "text/html": [
       "<div>\n",
       "<style scoped>\n",
       "    .dataframe tbody tr th:only-of-type {\n",
       "        vertical-align: middle;\n",
       "    }\n",
       "\n",
       "    .dataframe tbody tr th {\n",
       "        vertical-align: top;\n",
       "    }\n",
       "\n",
       "    .dataframe thead tr th {\n",
       "        text-align: left;\n",
       "    }\n",
       "</style>\n",
       "<table border=\"1\" class=\"dataframe\">\n",
       "  <thead>\n",
       "    <tr>\n",
       "      <th>group</th>\n",
       "      <th colspan=\"2\" halign=\"left\">1</th>\n",
       "      <th colspan=\"2\" halign=\"left\">2</th>\n",
       "    </tr>\n",
       "    <tr>\n",
       "      <th>study</th>\n",
       "      <th>1</th>\n",
       "      <th>2</th>\n",
       "      <th>1</th>\n",
       "      <th>2</th>\n",
       "    </tr>\n",
       "  </thead>\n",
       "  <tbody>\n",
       "    <tr>\n",
       "      <td>PS</td>\n",
       "      <td>0.047288</td>\n",
       "      <td>-0.483637</td>\n",
       "      <td>-0.425737</td>\n",
       "      <td>-0.687627</td>\n",
       "    </tr>\n",
       "    <tr>\n",
       "      <td>ATT</td>\n",
       "      <td>0.066855</td>\n",
       "      <td>0.042545</td>\n",
       "      <td>-0.650801</td>\n",
       "      <td>-0.112233</td>\n",
       "    </tr>\n",
       "    <tr>\n",
       "      <td>WM</td>\n",
       "      <td>0.024582</td>\n",
       "      <td>0.102389</td>\n",
       "      <td>-0.529846</td>\n",
       "      <td>-0.762135</td>\n",
       "    </tr>\n",
       "    <tr>\n",
       "      <td>VM</td>\n",
       "      <td>-0.011583</td>\n",
       "      <td>0.204887</td>\n",
       "      <td>-0.961288</td>\n",
       "      <td>-1.086192</td>\n",
       "    </tr>\n",
       "    <tr>\n",
       "      <td>VISM</td>\n",
       "      <td>0.020095</td>\n",
       "      <td>0.074392</td>\n",
       "      <td>-0.890908</td>\n",
       "      <td>-0.655955</td>\n",
       "    </tr>\n",
       "    <tr>\n",
       "      <td>EF</td>\n",
       "      <td>-0.001644</td>\n",
       "      <td>-0.010080</td>\n",
       "      <td>-0.755718</td>\n",
       "      <td>-1.087824</td>\n",
       "    </tr>\n",
       "  </tbody>\n",
       "</table>\n",
       "</div>"
      ],
      "text/plain": [
       "group         1                   2          \n",
       "study         1         2         1         2\n",
       "PS     0.047288 -0.483637 -0.425737 -0.687627\n",
       "ATT    0.066855  0.042545 -0.650801 -0.112233\n",
       "WM     0.024582  0.102389 -0.529846 -0.762135\n",
       "VM    -0.011583  0.204887 -0.961288 -1.086192\n",
       "VISM   0.020095  0.074392 -0.890908 -0.655955\n",
       "EF    -0.001644 -0.010080 -0.755718 -1.087824"
      ]
     },
     "execution_count": 3,
     "metadata": {},
     "output_type": "execute_result"
    }
   ],
   "source": [
    "cog = df[['group','study','z_ps','z_att','z_wm','z_vm','z_vism','z_ef']]\n",
    "cog = cog.groupby(['group','study']).mean().transpose()\n",
    "cog.index=['PS','ATT','WM','VM','VISM','EF']\n",
    "cog"
   ]
  },
  {
   "cell_type": "code",
   "execution_count": 4,
   "metadata": {},
   "outputs": [
    {
     "data": {
      "text/plain": [
       "array([0.15540843, 0.16723432, 0.21082418, 0.32742805, 0.24196815,\n",
       "       0.27295783])"
      ]
     },
     "execution_count": 4,
     "metadata": {},
     "output_type": "execute_result"
    }
   ],
   "source": [
    "errs = scipy.stats.sem(cog,axis=1)\n",
    "errs"
   ]
  },
  {
   "cell_type": "code",
   "execution_count": 5,
   "metadata": {
    "scrolled": false
   },
   "outputs": [
    {
     "data": {
      "image/png": "[encoded data removed]",
      "text/plain": [
       "<Figure size 1080x504 with 1 Axes>"
      ]
     },
     "metadata": {
      "needs_background": "light"
     },
     "output_type": "display_data"
    }
   ],
   "source": [
    "ax = cog.plot(kind = 'bar', \n",
    "              rot=0, \n",
    "              color=[plt.cm.Paired(0),plt.cm.Paired(2),plt.cm.Paired(1),plt.cm.Paired(3)], \n",
    "              legend=False, \n",
    "              fontsize=24,\n",
    "              yerr = errs,\n",
    "              error_kw=dict(lw=1, capsize=3, capthick=1),\n",
    "              capsize=4,\n",
    "              figsize = [15,7])\n",
    "ax.spines['top'].set_visible(False)\n",
    "ax.spines['right'].set_visible(False)\n",
    "plt.hlines(y= 0, xmin=-1, xmax=10, color='black', linestyle ='dashed', linewidth = 1)\n",
    "plt.rcParams['font.family'] = ['serif']\n",
    "plt.rcParams['font.serif'] = ['Times New Roman']\n",
    "plt.savefig('fig1.tif', dpi=300)"
   ]
  },
  {
   "cell_type": "code",
   "execution_count": null,
   "metadata": {},
   "outputs": [],
   "source": []
  }
 ],
 "metadata": {
  "kernelspec": {
   "display_name": "Python 3",
   "language": "python",
   "name": "python3"
  },
  "language_info": {
   "codemirror_mode": {
    "name": "ipython",
    "version": 3
   },
   "file_extension": ".py",
   "mimetype": "text/x-python",
   "name": "python",
   "nbconvert_exporter": "python",
   "pygments_lexer": "ipython3",
   "version": "3.7.4"
  }
 },
 "nbformat": 4,
 "nbformat_minor": 5
}
